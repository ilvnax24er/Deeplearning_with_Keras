{
 "cells": [
  {
   "cell_type": "markdown",
   "id": "loaded-inside",
   "metadata": {},
   "source": [
    "# LSTM Autoencoder"
   ]
  },
  {
   "cell_type": "markdown",
   "id": "tribal-underwear",
   "metadata": {},
   "source": [
    "- 정상적인 데이터로 모델 학습 후 비정상적인 데이터를 넣어 디코딩하게 되면 정상 데이터 특성과 디코딩 된 데이터 간의 차이인 재구성 손실(Reconstruction Error)를 계산하여 손실이 낮은 부분은 normal, 높은 부분은 abnormal로 판단\n",
    "- Sequence data에 Encoder-Decoder LSTM Architecture를 적용하여 구현. Model에 input sequence가 순차적으로 들어오게 되고, 마지막 input sequence가 들어온 후 decoder는 input sequence를 재생성하거나 목표 sequence에 대한 예측을 출력.\n",
    "- LSTM Autoencoder 학습 시 normal data로만 학습."
   ]
  },
  {
   "cell_type": "markdown",
   "id": "infectious-conclusion",
   "metadata": {},
   "source": [
    "## LSTM Autoencoder through Curve shifting"
   ]
  },
  {
   "cell_type": "markdown",
   "id": "generous-macedonia",
   "metadata": {},
   "source": [
    "Curve Shifting을 통해 데이터의 시점을 변환해주고 normal 데이터만을 통해 LSTM AE모델을 학습. 그 후 재구성 손실을 계산 후 Precision Recall Curve를 통해 normal/abnormal을 구분하기 위한 threshold를 지정하고 이를 기준으로 test set의 재구성 손실을 분류하여 t+n 시점을 예측."
   ]
  },
  {
   "cell_type": "markdown",
   "id": "assumed-authentication",
   "metadata": {},
   "source": [
    "### 1. Curve Shifting"
   ]
  },
  {
   "cell_type": "markdown",
   "id": "indonesian-disorder",
   "metadata": {},
   "source": [
    "사전 예측 개념을 적용하기 위한 Shifting 방법. 비정상 신호를 n일 전에 조기예측 하고자 한다면 n일 만큼 shift하는게 아니라 비정상 신호가 있는 날짜로부터 n일 전까지의 데이터를 비정상 신호로 바꾸어 주는것.\n",
    "그후 본래 비정상 신호 데이터를 제거해주는데 라벨을 바꿔주는 순간 비정상 신호 예측 문제가 아닌 비정상 신호 조짐 예측 문제가 되는것이기 때문에 데이터의 학습혼동을 없애주기 위해 제거."
   ]
  },
  {
   "cell_type": "markdown",
   "id": "incredible-concentrate",
   "metadata": {},
   "source": [
    "### 2. Threshold by Precision-Recall-Curve"
   ]
  },
  {
   "cell_type": "markdown",
   "id": "yellow-student",
   "metadata": {},
   "source": [
    "적절한 Threshold값을 적용하기 위한 방법.\n",
    "Recall과 Precision이 서로 Trade off 관계를 가지기 때문에 어느 한쪽에 치우치지 않는 최적의 threshold를 구하기 위한 방법."
   ]
  },
  {
   "cell_type": "markdown",
   "id": "aging-arnold",
   "metadata": {},
   "source": [
    "## Implementation"
   ]
  },
  {
   "cell_type": "markdown",
   "id": "timely-atmosphere",
   "metadata": {},
   "source": [
    "### Imports"
   ]
  },
  {
   "cell_type": "code",
   "execution_count": 26,
   "id": "light-workshop",
   "metadata": {},
   "outputs": [],
   "source": [
    "import pandas as pd\n",
    "import numpy as np\n",
    "import matplotlib.pyplot as plt\n",
    "import seaborn as sns\n",
    "from pylab import rcParams\n",
    "from collections import Counter\n",
    "import os\n",
    "\n",
    "import tensorflow as tf\n",
    "from tensorflow.keras.models import Model\n",
    "from tensorflow.keras.layers import Input, LSTM, RepeatVector, TimeDistributed, Dense\n",
    "from tensorflow.keras.optimizers import Adam\n",
    "from tensorflow.keras.callbacks import EarlyStopping\n",
    "from tensorflow.keras.utils import plot_model\n",
    "\n",
    "from sklearn.preprocessing import StandardScaler\n",
    "from sklearn.model_selection import train_test_split\n",
    "from sklearn import metrics\n",
    "import tensorboard\n",
    "from datetime import datetime\n",
    "\n",
    "import warnings\n",
    "warnings.filterwarnings('ignore')"
   ]
  },
  {
   "cell_type": "markdown",
   "id": "promising-ideal",
   "metadata": {},
   "source": [
    "### Dataset"
   ]
  },
  {
   "cell_type": "code",
   "execution_count": 5,
   "id": "north-ozone",
   "metadata": {},
   "outputs": [],
   "source": [
    "LABELS = ['Normal', 'Break']"
   ]
  },
  {
   "cell_type": "code",
   "execution_count": 6,
   "id": "lesbian-rochester",
   "metadata": {},
   "outputs": [],
   "source": [
    "df = pd.read_excel('./processminer-rare-event-mts.xlsx', engine='openpyxl')"
   ]
  },
  {
   "cell_type": "code",
   "execution_count": 7,
   "id": "public-section",
   "metadata": {},
   "outputs": [
    {
     "data": {
      "text/plain": [
       "(18398, 63)"
      ]
     },
     "execution_count": 7,
     "metadata": {},
     "output_type": "execute_result"
    }
   ],
   "source": [
    "df.shape"
   ]
  },
  {
   "cell_type": "code",
   "execution_count": 8,
   "id": "animal-detection",
   "metadata": {},
   "outputs": [
    {
     "data": {
      "text/plain": [
       "Counter({0: 18274, 1: 124})"
      ]
     },
     "execution_count": 8,
     "metadata": {},
     "output_type": "execute_result"
    }
   ],
   "source": [
    "Counter(df['y'])"
   ]
  },
  {
   "cell_type": "markdown",
   "id": "flexible-ceramic",
   "metadata": {},
   "source": [
    "### Curve Shifting"
   ]
  },
  {
   "cell_type": "code",
   "execution_count": 9,
   "id": "confidential-coach",
   "metadata": {},
   "outputs": [],
   "source": [
    "sign = lambda x: (1, -1)[x < 0]\n",
    "def curve_shift(df, shift_by):\n",
    "    vector = df['y'].copy()\n",
    "    for _ in range(abs(shift_by)):\n",
    "        tmp = vector.shift(sign(shift_by))\n",
    "        tmp = tmp.fillna(0)\n",
    "        vector += tmp\n",
    "    labelcol = 'y'\n",
    "    \n",
    "    # Add vector to the df\n",
    "    df.insert(loc=0, column=labelcol+'tmp', value=vector)\n",
    "    \n",
    "    # Remove the rows with labelcol == 1\n",
    "    df = df.drop(df[df[labelcol]==1].index)\n",
    "    \n",
    "    df = df.drop(labelcol, axis=1)\n",
    "    df = df.rename(columns={labelcol+'tmp': labelcol})\n",
    "    \n",
    "    df.loc[df[labelcol] > 0, labelcol] = 1\n",
    "    \n",
    "    return df"
   ]
  },
  {
   "cell_type": "code",
   "execution_count": 10,
   "id": "alleged-batman",
   "metadata": {},
   "outputs": [
    {
     "data": {
      "text/html": [
       "<div>\n",
       "<style scoped>\n",
       "    .dataframe tbody tr th:only-of-type {\n",
       "        vertical-align: middle;\n",
       "    }\n",
       "\n",
       "    .dataframe tbody tr th {\n",
       "        vertical-align: top;\n",
       "    }\n",
       "\n",
       "    .dataframe thead th {\n",
       "        text-align: right;\n",
       "    }\n",
       "</style>\n",
       "<table border=\"1\" class=\"dataframe\">\n",
       "  <thead>\n",
       "    <tr style=\"text-align: right;\">\n",
       "      <th></th>\n",
       "      <th>y</th>\n",
       "      <th>time</th>\n",
       "      <th>x1</th>\n",
       "      <th>x2</th>\n",
       "      <th>x3</th>\n",
       "      <th>x4</th>\n",
       "      <th>x5</th>\n",
       "      <th>x6</th>\n",
       "      <th>x7</th>\n",
       "      <th>x8</th>\n",
       "      <th>...</th>\n",
       "      <th>x52</th>\n",
       "      <th>x53</th>\n",
       "      <th>x54</th>\n",
       "      <th>x55</th>\n",
       "      <th>x56</th>\n",
       "      <th>x57</th>\n",
       "      <th>x58</th>\n",
       "      <th>x59</th>\n",
       "      <th>x60</th>\n",
       "      <th>x61</th>\n",
       "    </tr>\n",
       "  </thead>\n",
       "  <tbody>\n",
       "    <tr>\n",
       "      <th>0</th>\n",
       "      <td>0.0</td>\n",
       "      <td>1999-05-01 00:00:00</td>\n",
       "      <td>0.376665</td>\n",
       "      <td>-4.596435</td>\n",
       "      <td>-4.095756</td>\n",
       "      <td>13.497687</td>\n",
       "      <td>-0.118830</td>\n",
       "      <td>-20.669883</td>\n",
       "      <td>0.000732</td>\n",
       "      <td>-0.061114</td>\n",
       "      <td>...</td>\n",
       "      <td>10.091721</td>\n",
       "      <td>0.053279</td>\n",
       "      <td>-4.936434</td>\n",
       "      <td>-24.590146</td>\n",
       "      <td>18.515436</td>\n",
       "      <td>3.473400</td>\n",
       "      <td>0.033444</td>\n",
       "      <td>0.953219</td>\n",
       "      <td>0.006076</td>\n",
       "      <td>0</td>\n",
       "    </tr>\n",
       "    <tr>\n",
       "      <th>1</th>\n",
       "      <td>0.0</td>\n",
       "      <td>1999-05-01 00:02:00</td>\n",
       "      <td>0.475720</td>\n",
       "      <td>-4.542502</td>\n",
       "      <td>-4.018359</td>\n",
       "      <td>16.230659</td>\n",
       "      <td>-0.128733</td>\n",
       "      <td>-18.758079</td>\n",
       "      <td>0.000732</td>\n",
       "      <td>-0.061114</td>\n",
       "      <td>...</td>\n",
       "      <td>10.095871</td>\n",
       "      <td>0.062801</td>\n",
       "      <td>-4.937179</td>\n",
       "      <td>-32.413266</td>\n",
       "      <td>22.760065</td>\n",
       "      <td>2.682933</td>\n",
       "      <td>0.033536</td>\n",
       "      <td>1.090502</td>\n",
       "      <td>0.006083</td>\n",
       "      <td>0</td>\n",
       "    </tr>\n",
       "    <tr>\n",
       "      <th>2</th>\n",
       "      <td>0.0</td>\n",
       "      <td>1999-05-01 00:04:00</td>\n",
       "      <td>0.363848</td>\n",
       "      <td>-4.681394</td>\n",
       "      <td>-4.353147</td>\n",
       "      <td>14.127997</td>\n",
       "      <td>-0.138636</td>\n",
       "      <td>-17.836632</td>\n",
       "      <td>0.010803</td>\n",
       "      <td>-0.061114</td>\n",
       "      <td>...</td>\n",
       "      <td>10.100265</td>\n",
       "      <td>0.072322</td>\n",
       "      <td>-4.937924</td>\n",
       "      <td>-34.183774</td>\n",
       "      <td>27.004663</td>\n",
       "      <td>3.537487</td>\n",
       "      <td>0.033629</td>\n",
       "      <td>1.840540</td>\n",
       "      <td>0.006090</td>\n",
       "      <td>0</td>\n",
       "    </tr>\n",
       "    <tr>\n",
       "      <th>3</th>\n",
       "      <td>0.0</td>\n",
       "      <td>1999-05-01 00:06:00</td>\n",
       "      <td>0.301590</td>\n",
       "      <td>-4.758934</td>\n",
       "      <td>-4.023612</td>\n",
       "      <td>13.161566</td>\n",
       "      <td>-0.148142</td>\n",
       "      <td>-18.517601</td>\n",
       "      <td>0.002075</td>\n",
       "      <td>-0.061114</td>\n",
       "      <td>...</td>\n",
       "      <td>10.104660</td>\n",
       "      <td>0.081600</td>\n",
       "      <td>-4.938669</td>\n",
       "      <td>-35.954281</td>\n",
       "      <td>21.672449</td>\n",
       "      <td>3.986095</td>\n",
       "      <td>0.033721</td>\n",
       "      <td>2.554880</td>\n",
       "      <td>0.006097</td>\n",
       "      <td>0</td>\n",
       "    </tr>\n",
       "    <tr>\n",
       "      <th>4</th>\n",
       "      <td>0.0</td>\n",
       "      <td>1999-05-01 00:08:00</td>\n",
       "      <td>0.265578</td>\n",
       "      <td>-4.749928</td>\n",
       "      <td>-4.333150</td>\n",
       "      <td>15.267340</td>\n",
       "      <td>-0.155314</td>\n",
       "      <td>-17.505913</td>\n",
       "      <td>0.000732</td>\n",
       "      <td>-0.061114</td>\n",
       "      <td>...</td>\n",
       "      <td>10.109054</td>\n",
       "      <td>0.091121</td>\n",
       "      <td>-4.939414</td>\n",
       "      <td>-37.724789</td>\n",
       "      <td>21.907251</td>\n",
       "      <td>3.601573</td>\n",
       "      <td>0.033777</td>\n",
       "      <td>1.410494</td>\n",
       "      <td>0.006105</td>\n",
       "      <td>0</td>\n",
       "    </tr>\n",
       "  </tbody>\n",
       "</table>\n",
       "<p>5 rows × 63 columns</p>\n",
       "</div>"
      ],
      "text/plain": [
       "     y                time        x1        x2        x3         x4        x5  \\\n",
       "0  0.0 1999-05-01 00:00:00  0.376665 -4.596435 -4.095756  13.497687 -0.118830   \n",
       "1  0.0 1999-05-01 00:02:00  0.475720 -4.542502 -4.018359  16.230659 -0.128733   \n",
       "2  0.0 1999-05-01 00:04:00  0.363848 -4.681394 -4.353147  14.127997 -0.138636   \n",
       "3  0.0 1999-05-01 00:06:00  0.301590 -4.758934 -4.023612  13.161566 -0.148142   \n",
       "4  0.0 1999-05-01 00:08:00  0.265578 -4.749928 -4.333150  15.267340 -0.155314   \n",
       "\n",
       "          x6        x7        x8  ...        x52       x53       x54  \\\n",
       "0 -20.669883  0.000732 -0.061114  ...  10.091721  0.053279 -4.936434   \n",
       "1 -18.758079  0.000732 -0.061114  ...  10.095871  0.062801 -4.937179   \n",
       "2 -17.836632  0.010803 -0.061114  ...  10.100265  0.072322 -4.937924   \n",
       "3 -18.517601  0.002075 -0.061114  ...  10.104660  0.081600 -4.938669   \n",
       "4 -17.505913  0.000732 -0.061114  ...  10.109054  0.091121 -4.939414   \n",
       "\n",
       "         x55        x56       x57       x58       x59       x60  x61  \n",
       "0 -24.590146  18.515436  3.473400  0.033444  0.953219  0.006076    0  \n",
       "1 -32.413266  22.760065  2.682933  0.033536  1.090502  0.006083    0  \n",
       "2 -34.183774  27.004663  3.537487  0.033629  1.840540  0.006090    0  \n",
       "3 -35.954281  21.672449  3.986095  0.033721  2.554880  0.006097    0  \n",
       "4 -37.724789  21.907251  3.601573  0.033777  1.410494  0.006105    0  \n",
       "\n",
       "[5 rows x 63 columns]"
      ]
     },
     "execution_count": 10,
     "metadata": {},
     "output_type": "execute_result"
    }
   ],
   "source": [
    "shifted_df = curve_shift(df, shift_by=-5)\n",
    "shifted_df.head()"
   ]
  },
  {
   "cell_type": "code",
   "execution_count": 11,
   "id": "handed-sociology",
   "metadata": {},
   "outputs": [],
   "source": [
    "shifted_df = shifted_df.drop(['time', 'x28','x61'], axis=1)"
   ]
  },
  {
   "cell_type": "code",
   "execution_count": 12,
   "id": "wicked-classics",
   "metadata": {},
   "outputs": [],
   "source": [
    "input_x = shifted_df.drop('y', axis=1).values\n",
    "input_y = shifted_df['y'].values\n",
    "n_features = input_x.shape[1]"
   ]
  },
  {
   "cell_type": "code",
   "execution_count": 13,
   "id": "equal-porcelain",
   "metadata": {},
   "outputs": [],
   "source": [
    "def temporalize(X, y, timesteps):\n",
    "    output_X = []\n",
    "    output_y = []\n",
    "    for i in range(len(X) - timesteps -1):\n",
    "        t = []\n",
    "        for j in range(1, timesteps + 1):\n",
    "            t.append(X[[(i+j+1)], :])\n",
    "        output_X.append(t)\n",
    "        output_y.append(y[i+timesteps+1])\n",
    "    return np.squeeze(np.array(output_X)), np.array(output_y)"
   ]
  },
  {
   "cell_type": "code",
   "execution_count": 14,
   "id": "electoral-elephant",
   "metadata": {},
   "outputs": [],
   "source": [
    "timesteps = 5"
   ]
  },
  {
   "cell_type": "code",
   "execution_count": 15,
   "id": "seasonal-presence",
   "metadata": {},
   "outputs": [
    {
     "name": "stdout",
     "output_type": "stream",
     "text": [
      "(18268, 5, 59)\n"
     ]
    }
   ],
   "source": [
    "x, y = temporalize(input_x, input_y, timesteps)\n",
    "print(x.shape)"
   ]
  },
  {
   "cell_type": "markdown",
   "id": "valued-norwegian",
   "metadata": {},
   "source": [
    "### Trian Test Split"
   ]
  },
  {
   "cell_type": "code",
   "execution_count": 16,
   "id": "tested-birthday",
   "metadata": {},
   "outputs": [
    {
     "name": "stdout",
     "output_type": "stream",
     "text": [
      "11691\n",
      "2923\n",
      "3654\n"
     ]
    }
   ],
   "source": [
    "x_train, x_test, y_train, y_test = train_test_split(x, y, test_size=.2)\n",
    "x_train, x_valid, y_train, y_valid = train_test_split(x_train, y_train, test_size=.2)\n",
    "\n",
    "print(len(x_train))\n",
    "print(len(x_valid))\n",
    "print(len(x_test))"
   ]
  },
  {
   "cell_type": "markdown",
   "id": "champion-austria",
   "metadata": {},
   "source": [
    "Normal(0) / Break(1) data split"
   ]
  },
  {
   "cell_type": "code",
   "execution_count": 17,
   "id": "harmful-relation",
   "metadata": {},
   "outputs": [],
   "source": [
    "x_train_y0 = x_train[y_train == 0]\n",
    "x_train_y1 = x_train[y_train == 1]\n",
    "\n",
    "x_valid_y0 = x_valid[y_valid == 0]\n",
    "x_valid_y1 = x_valid[y_valid == 1]"
   ]
  },
  {
   "cell_type": "markdown",
   "id": "documentary-hawaii",
   "metadata": {},
   "source": [
    "### Standardize"
   ]
  },
  {
   "cell_type": "code",
   "execution_count": 18,
   "id": "multiple-kazakhstan",
   "metadata": {},
   "outputs": [],
   "source": [
    "def flatten(X):\n",
    "    flattened_X = np.empty((X.shape[0], X.shape[2]))\n",
    "    for i in range(X.shape[0]):\n",
    "        flattened_X[i] = X[i, (X.shape[1]-1), :]\n",
    "    return(flattened_X)\n",
    "\n",
    "def scale(X, scaler):\n",
    "    for i in range(X.shape[0]):\n",
    "        X[i, :, :] = scaler.transform(X[i, :, :])\n",
    "        \n",
    "    return X"
   ]
  },
  {
   "cell_type": "code",
   "execution_count": 19,
   "id": "focal-second",
   "metadata": {},
   "outputs": [],
   "source": [
    "scaler = StandardScaler().fit(flatten(x_train_y0))\n",
    "\n",
    "x_train_y0_scaled = scale(x_train_y0, scaler)\n",
    "x_valid_scaled = scale(x_valid, scaler)\n",
    "x_valid_y0_scaled = scale(x_valid_y0, scaler)\n",
    "x_test_scaled = scale(x_test, scaler)"
   ]
  },
  {
   "cell_type": "markdown",
   "id": "temporal-separate",
   "metadata": {},
   "source": [
    "### Model"
   ]
  },
  {
   "cell_type": "code",
   "execution_count": 20,
   "id": "accessory-short",
   "metadata": {},
   "outputs": [],
   "source": [
    "epochs = 200\n",
    "batch = 128\n",
    "lr = 0.001"
   ]
  },
  {
   "cell_type": "code",
   "execution_count": 21,
   "id": "imposed-sewing",
   "metadata": {},
   "outputs": [
    {
     "name": "stdout",
     "output_type": "stream",
     "text": [
      "WARNING:tensorflow:Layer lstm will not use cuDNN kernel since it doesn't meet the cuDNN kernel criteria. It will use generic GPU kernel as fallback when running on GPU\n",
      "WARNING:tensorflow:Layer lstm_1 will not use cuDNN kernel since it doesn't meet the cuDNN kernel criteria. It will use generic GPU kernel as fallback when running on GPU\n",
      "WARNING:tensorflow:Layer lstm_2 will not use cuDNN kernel since it doesn't meet the cuDNN kernel criteria. It will use generic GPU kernel as fallback when running on GPU\n",
      "WARNING:tensorflow:Layer lstm_3 will not use cuDNN kernel since it doesn't meet the cuDNN kernel criteria. It will use generic GPU kernel as fallback when running on GPU\n"
     ]
    }
   ],
   "source": [
    "inputs = Input(shape=(timesteps, n_features))\n",
    "# Encoder\n",
    "x = LSTM(32, activation='relu', return_sequences=True)(inputs)\n",
    "x = LSTM(16, activation='relu', return_sequences=False)(x)\n",
    "x = RepeatVector(timesteps)(x)\n",
    "\n",
    "# Decoder\n",
    "x = LSTM(16, activation='relu', return_sequences=True)(x)\n",
    "x = LSTM(32, activation='relu', return_sequences=True)(x)\n",
    "x = TimeDistributed(Dense(n_features))(x)\n",
    "\n",
    "model = Model(inputs, x)"
   ]
  },
  {
   "cell_type": "code",
   "execution_count": 22,
   "id": "casual-replacement",
   "metadata": {},
   "outputs": [
    {
     "name": "stdout",
     "output_type": "stream",
     "text": [
      "Model: \"functional_1\"\n",
      "_________________________________________________________________\n",
      "Layer (type)                 Output Shape              Param #   \n",
      "=================================================================\n",
      "input_1 (InputLayer)         [(None, 5, 59)]           0         \n",
      "_________________________________________________________________\n",
      "lstm (LSTM)                  (None, 5, 32)             11776     \n",
      "_________________________________________________________________\n",
      "lstm_1 (LSTM)                (None, 16)                3136      \n",
      "_________________________________________________________________\n",
      "repeat_vector (RepeatVector) (None, 5, 16)             0         \n",
      "_________________________________________________________________\n",
      "lstm_2 (LSTM)                (None, 5, 16)             2112      \n",
      "_________________________________________________________________\n",
      "lstm_3 (LSTM)                (None, 5, 32)             6272      \n",
      "_________________________________________________________________\n",
      "time_distributed (TimeDistri (None, 5, 59)             1947      \n",
      "=================================================================\n",
      "Total params: 25,243\n",
      "Trainable params: 25,243\n",
      "Non-trainable params: 0\n",
      "_________________________________________________________________\n"
     ]
    }
   ],
   "source": [
    "model.summary()"
   ]
  },
  {
   "cell_type": "code",
   "execution_count": 23,
   "id": "incoming-conservative",
   "metadata": {},
   "outputs": [
    {
     "data": {
      "image/png": "[encoded data removed]",
      "text/plain": [
       "<IPython.core.display.Image object>"
      ]
     },
     "execution_count": 23,
     "metadata": {},
     "output_type": "execute_result"
    }
   ],
   "source": [
    "plot_model(model)"
   ]
  },
  {
   "cell_type": "code",
   "execution_count": 24,
   "id": "ahead-algorithm",
   "metadata": {},
   "outputs": [],
   "source": [
    "model.compile(loss='mse', optimizer = Adam(lr))"
   ]
  },
  {
   "cell_type": "code",
   "execution_count": 25,
   "id": "piano-virginia",
   "metadata": {},
   "outputs": [],
   "source": [
    "logdir = 'log/LSTMAE/'+datetime.now().strftime(\"%Y%m%d-%H%M%S\")\n",
    "tensorboard_callback = tf.keras.callbacks.TensorBoard(log_dir = logdir)"
   ]
  },
  {
   "cell_type": "code",
   "execution_count": 27,
   "id": "advisory-market",
   "metadata": {},
   "outputs": [],
   "source": [
    "es = EarlyStopping(monitor='val_loss', patience=5)"
   ]
  },
  {
   "cell_type": "code",
   "execution_count": 28,
   "id": "widespread-collectible",
   "metadata": {},
   "outputs": [
    {
     "name": "stdout",
     "output_type": "stream",
     "text": [
      "Epoch 1/200\n",
      " 1/89 [..............................] - ETA: 0s - loss: 0.9847WARNING:tensorflow:From c:\\users\\ilvna\\.conda\\envs\\tf\\lib\\site-packages\\tensorflow\\python\\ops\\summary_ops_v2.py:1277: stop (from tensorflow.python.eager.profiler) is deprecated and will be removed after 2020-07-01.\n",
      "Instructions for updating:\n",
      "use `tf.profiler.experimental.stop` instead.\n",
      " 2/89 [..............................] - ETA: 7s - loss: 0.9903WARNING:tensorflow:Callbacks method `on_train_batch_end` is slow compared to the batch time (batch time: 0.0520s vs `on_train_batch_end` time: 0.1138s). Check your callbacks.\n",
      "89/89 [==============================] - 3s 36ms/step - loss: 0.8543 - val_loss: 0.6105\n",
      "Epoch 2/200\n",
      "89/89 [==============================] - 3s 30ms/step - loss: 0.5014 - val_loss: 0.4267\n",
      "Epoch 3/200\n",
      "89/89 [==============================] - 3s 30ms/step - loss: 0.3784 - val_loss: 0.3394\n",
      "Epoch 4/200\n",
      "89/89 [==============================] - 3s 30ms/step - loss: 0.3180 - val_loss: 0.2943\n",
      "Epoch 5/200\n",
      "89/89 [==============================] - 3s 30ms/step - loss: 0.2820 - val_loss: 0.2678\n",
      "Epoch 6/200\n",
      "89/89 [==============================] - 3s 30ms/step - loss: 0.2601 - val_loss: 0.2504\n",
      "Epoch 7/200\n",
      "89/89 [==============================] - 3s 33ms/step - loss: 0.2457 - val_loss: 0.2371\n",
      "Epoch 8/200\n",
      "89/89 [==============================] - 3s 32ms/step - loss: 0.2358 - val_loss: 0.2303\n",
      "Epoch 9/200\n",
      "89/89 [==============================] - 3s 31ms/step - loss: 0.2271 - val_loss: 0.2216\n",
      "Epoch 10/200\n",
      "89/89 [==============================] - 3s 30ms/step - loss: 0.2219 - val_loss: 0.2162\n",
      "Epoch 11/200\n",
      "89/89 [==============================] - 3s 30ms/step - loss: 0.2132 - val_loss: 0.2125\n",
      "Epoch 12/200\n",
      "89/89 [==============================] - 3s 30ms/step - loss: 0.2080 - val_loss: 0.2063\n",
      "Epoch 13/200\n",
      "89/89 [==============================] - 3s 30ms/step - loss: 0.2033 - val_loss: 0.2025\n",
      "Epoch 14/200\n",
      "89/89 [==============================] - 3s 30ms/step - loss: 0.1981 - val_loss: 0.1965\n",
      "Epoch 15/200\n",
      "89/89 [==============================] - 3s 30ms/step - loss: 0.1939 - val_loss: 0.1954\n",
      "Epoch 16/200\n",
      "89/89 [==============================] - 3s 30ms/step - loss: 0.1905 - val_loss: 0.1890\n",
      "Epoch 17/200\n",
      "89/89 [==============================] - 3s 30ms/step - loss: 0.1854 - val_loss: 0.1854\n",
      "Epoch 18/200\n",
      "89/89 [==============================] - 3s 29ms/step - loss: 0.1822 - val_loss: 0.1837\n",
      "Epoch 19/200\n",
      "89/89 [==============================] - 3s 31ms/step - loss: 0.1795 - val_loss: 0.1821\n",
      "Epoch 20/200\n",
      "89/89 [==============================] - 3s 31ms/step - loss: 0.1775 - val_loss: 0.1801\n",
      "Epoch 21/200\n",
      "89/89 [==============================] - 3s 32ms/step - loss: 0.1762 - val_loss: 0.1764\n",
      "Epoch 22/200\n",
      "89/89 [==============================] - 3s 32ms/step - loss: 0.1727 - val_loss: 0.1745\n",
      "Epoch 23/200\n",
      "89/89 [==============================] - 3s 32ms/step - loss: 0.1718 - val_loss: 0.1745\n",
      "Epoch 24/200\n",
      "89/89 [==============================] - 3s 31ms/step - loss: 0.1695 - val_loss: 0.1719\n",
      "Epoch 25/200\n",
      "89/89 [==============================] - 3s 31ms/step - loss: 0.1662 - val_loss: 0.1690\n",
      "Epoch 26/200\n",
      "89/89 [==============================] - 3s 31ms/step - loss: 0.1639 - val_loss: 0.1678\n",
      "Epoch 27/200\n",
      "89/89 [==============================] - 3s 31ms/step - loss: 0.1632 - val_loss: 0.1665\n",
      "Epoch 28/200\n",
      "89/89 [==============================] - 3s 31ms/step - loss: 0.1623 - val_loss: 0.1658\n",
      "Epoch 29/200\n",
      "89/89 [==============================] - 3s 31ms/step - loss: 0.1597 - val_loss: 0.1648\n",
      "Epoch 30/200\n",
      "89/89 [==============================] - 3s 31ms/step - loss: 0.1590 - val_loss: 0.1672\n",
      "Epoch 31/200\n",
      "89/89 [==============================] - 3s 31ms/step - loss: 0.1595 - val_loss: 0.1636\n",
      "Epoch 32/200\n",
      "89/89 [==============================] - 3s 31ms/step - loss: 0.1563 - val_loss: 0.1592\n",
      "Epoch 33/200\n",
      "89/89 [==============================] - 3s 30ms/step - loss: 0.1551 - val_loss: 0.1615\n",
      "Epoch 34/200\n",
      "89/89 [==============================] - 3s 31ms/step - loss: 0.1538 - val_loss: 0.1573\n",
      "Epoch 35/200\n",
      "89/89 [==============================] - 3s 31ms/step - loss: 0.1539 - val_loss: 0.1590\n",
      "Epoch 36/200\n",
      "89/89 [==============================] - 3s 31ms/step - loss: 0.1520 - val_loss: 0.1559\n",
      "Epoch 37/200\n",
      "89/89 [==============================] - 3s 30ms/step - loss: 0.1515 - val_loss: 0.1585\n",
      "Epoch 38/200\n",
      "89/89 [==============================] - 3s 30ms/step - loss: 0.1510 - val_loss: 0.1547\n",
      "Epoch 39/200\n",
      "89/89 [==============================] - 3s 31ms/step - loss: 0.1494 - val_loss: 0.1540\n",
      "Epoch 40/200\n",
      "89/89 [==============================] - 3s 31ms/step - loss: 0.1485 - val_loss: 0.1526\n",
      "Epoch 41/200\n",
      "89/89 [==============================] - 3s 30ms/step - loss: 0.1477 - val_loss: 0.1526\n",
      "Epoch 42/200\n",
      "89/89 [==============================] - 3s 30ms/step - loss: 0.1471 - val_loss: 0.1516\n",
      "Epoch 43/200\n",
      "89/89 [==============================] - 3s 31ms/step - loss: 0.1462 - val_loss: 0.1517\n",
      "Epoch 44/200\n",
      "89/89 [==============================] - 3s 30ms/step - loss: 0.1464 - val_loss: 0.1509\n",
      "Epoch 45/200\n",
      "89/89 [==============================] - 3s 30ms/step - loss: 0.1454 - val_loss: 0.1516\n",
      "Epoch 46/200\n",
      "89/89 [==============================] - 3s 30ms/step - loss: 0.1454 - val_loss: 0.1498\n",
      "Epoch 47/200\n",
      "89/89 [==============================] - 3s 31ms/step - loss: 0.1439 - val_loss: 0.1480\n",
      "Epoch 48/200\n",
      "89/89 [==============================] - 3s 30ms/step - loss: 0.1436 - val_loss: 0.1496\n",
      "Epoch 49/200\n",
      "89/89 [==============================] - 3s 32ms/step - loss: 0.1434 - val_loss: 0.1484\n",
      "Epoch 50/200\n",
      "89/89 [==============================] - 3s 32ms/step - loss: 0.1435 - val_loss: 0.1477\n",
      "Epoch 51/200\n",
      "89/89 [==============================] - 3s 33ms/step - loss: 0.1423 - val_loss: 0.1470\n",
      "Epoch 52/200\n",
      "89/89 [==============================] - 3s 31ms/step - loss: 0.1424 - val_loss: 0.1500\n",
      "Epoch 53/200\n",
      "89/89 [==============================] - 3s 31ms/step - loss: 0.1430 - val_loss: 0.1487\n",
      "Epoch 54/200\n",
      "89/89 [==============================] - 3s 31ms/step - loss: 0.1427 - val_loss: 0.1473\n",
      "Epoch 55/200\n",
      "89/89 [==============================] - 3s 31ms/step - loss: 0.1408 - val_loss: 0.1448\n",
      "Epoch 56/200\n",
      "89/89 [==============================] - 3s 31ms/step - loss: 0.1408 - val_loss: 0.1437\n",
      "Epoch 57/200\n",
      "89/89 [==============================] - 3s 31ms/step - loss: 0.1393 - val_loss: 0.1443\n",
      "Epoch 58/200\n",
      "89/89 [==============================] - 3s 30ms/step - loss: 0.1393 - val_loss: 0.1440\n",
      "Epoch 59/200\n",
      "89/89 [==============================] - 3s 31ms/step - loss: 0.1385 - val_loss: 0.1424\n",
      "Epoch 60/200\n",
      "89/89 [==============================] - 3s 30ms/step - loss: 0.1376 - val_loss: 0.1440\n",
      "Epoch 61/200\n",
      "89/89 [==============================] - 3s 30ms/step - loss: 0.1376 - val_loss: 0.1419\n",
      "Epoch 62/200\n",
      "89/89 [==============================] - 3s 30ms/step - loss: 0.1385 - val_loss: 0.1436\n",
      "Epoch 63/200\n",
      "89/89 [==============================] - 3s 30ms/step - loss: 0.1389 - val_loss: 0.1430\n",
      "Epoch 64/200\n",
      "89/89 [==============================] - 3s 31ms/step - loss: 0.1375 - val_loss: 0.1412\n",
      "Epoch 65/200\n",
      "89/89 [==============================] - 3s 31ms/step - loss: 0.1365 - val_loss: 0.1410\n",
      "Epoch 66/200\n",
      "89/89 [==============================] - 3s 30ms/step - loss: 0.1364 - val_loss: 0.1423\n",
      "Epoch 67/200\n",
      "89/89 [==============================] - 3s 31ms/step - loss: 0.1363 - val_loss: 0.1414\n",
      "Epoch 68/200\n",
      "89/89 [==============================] - 3s 32ms/step - loss: 0.1359 - val_loss: 0.1413\n",
      "Epoch 69/200\n",
      "89/89 [==============================] - 3s 31ms/step - loss: 0.1371 - val_loss: 0.1412\n",
      "Epoch 70/200\n",
      "89/89 [==============================] - 3s 30ms/step - loss: 0.1351 - val_loss: 0.1414\n"
     ]
    }
   ],
   "source": [
    "history = model.fit(x_train_y0_scaled, x_train_y0_scaled,\n",
    "                   epochs = epochs, batch_size = batch,\n",
    "                   validation_data=(x_valid_y0_scaled, x_valid_y0_scaled), callbacks=[tensorboard_callback, es])"
   ]
  },
  {
   "cell_type": "code",
   "execution_count": 29,
   "id": "nasty-familiar",
   "metadata": {},
   "outputs": [
    {
     "data": {
      "image/png": "[encoded data removed]",
      "text/plain": [
       "<Figure size 432x288 with 1 Axes>"
      ]
     },
     "metadata": {
      "needs_background": "light"
     },
     "output_type": "display_data"
    }
   ],
   "source": [
    "plt.plot(history.history['loss'], label='Train loss')\n",
    "plt.plot(history.history['val_loss'], label='Valid loss')\n",
    "plt.legend()\n",
    "plt.xlabel('Epoch')\n",
    "plt.ylabel('loss')\n",
    "plt.show()"
   ]
  },
  {
   "cell_type": "markdown",
   "id": "specific-climb",
   "metadata": {},
   "source": [
    "### Threshold by Precision Recall Curve"
   ]
  },
  {
   "cell_type": "code",
   "execution_count": 30,
   "id": "annoying-champagne",
   "metadata": {},
   "outputs": [
    {
     "data": {
      "image/png": "[encoded data removed]",
      "text/plain": [
       "<Figure size 576x360 with 1 Axes>"
      ]
     },
     "metadata": {
      "needs_background": "light"
     },
     "output_type": "display_data"
    }
   ],
   "source": [
    "valid_x_predictions = model.predict(x_valid_scaled)\n",
    "mse = np.mean(np.power(flatten(x_valid_scaled) - flatten(valid_x_predictions),\n",
    "                      2,), axis=1)\n",
    "\n",
    "error_df = pd.DataFrame({'Reconstruction_error' : mse,\n",
    "                        'True_class' : list(y_valid)})\n",
    "precision_rt, recall_rt, threshold_rt = metrics.precision_recall_curve(error_df['True_class'], error_df['Reconstruction_error'])\n",
    "\n",
    "plt.figure(figsize=(8,5))\n",
    "plt.plot(threshold_rt, precision_rt[1:], label='Precision')\n",
    "plt.plot(threshold_rt, recall_rt[1:], label='Recall')\n",
    "plt.xlabel('Threshold')\n",
    "plt.ylabel('Precision/Recall')\n",
    "plt.legend()\n",
    "plt.show()"
   ]
  },
  {
   "cell_type": "code",
   "execution_count": 31,
   "id": "civil-endorsement",
   "metadata": {},
   "outputs": [
    {
     "name": "stdout",
     "output_type": "stream",
     "text": [
      "Precision:  0.16161616161616163 , Recall:  0.16161616161616163\n",
      "Threshold:  0.3980707612878629\n"
     ]
    }
   ],
   "source": [
    "index_cnt = [cnt for cnt, (p, r) in enumerate(zip(precision_rt, recall_rt)) if p==r][0]\n",
    "print('Precision: ',precision_rt[index_cnt],', Recall: ', recall_rt[index_cnt])\n",
    "\n",
    "threshold_fixed = threshold_rt[index_cnt]\n",
    "print('Threshold: ', threshold_fixed)"
   ]
  },
  {
   "cell_type": "markdown",
   "id": "suspected-shanghai",
   "metadata": {},
   "source": [
    "Best threshold : 0.403"
   ]
  },
  {
   "cell_type": "markdown",
   "id": "returning-expansion",
   "metadata": {},
   "source": [
    "### Predict Test"
   ]
  },
  {
   "cell_type": "code",
   "execution_count": 32,
   "id": "pregnant-enemy",
   "metadata": {},
   "outputs": [
    {
     "data": {
      "image/png": "[encoded data removed]",
      "text/plain": [
       "<Figure size 432x288 with 1 Axes>"
      ]
     },
     "metadata": {
      "needs_background": "light"
     },
     "output_type": "display_data"
    }
   ],
   "source": [
    "test_x_predictions = model.predict(x_test_scaled)\n",
    "mse = np.mean(np.power(flatten(x_test_scaled) - flatten(test_x_predictions), 2), axis=1)\n",
    "\n",
    "error_df = pd.DataFrame({'Reconstruction_error': mse,\n",
    "                        'True_class' : y_test.tolist()})\n",
    "\n",
    "groups = error_df.groupby('True_class')\n",
    "fig, ax = plt.subplots()\n",
    "\n",
    "for name, group in groups:\n",
    "    ax.plot(group.index, group.Reconstruction_error, marker='o', ms=3.5, linestyle='',\n",
    "            label= \"Break\" if name == 1 else \"Normal\")\n",
    "ax.hlines(threshold_fixed, ax.get_xlim()[0], ax.get_xlim()[1], colors=\"r\", zorder=100, label='Threshold')\n",
    "ax.legend()\n",
    "plt.title(\"Reconstruction error for different classes\")\n",
    "plt.ylabel(\"Reconstruction error\")\n",
    "plt.xlabel(\"Data point index\")\n",
    "plt.show();"
   ]
  },
  {
   "cell_type": "markdown",
   "id": "closed-aluminum",
   "metadata": {},
   "source": [
    "### Confusion Matrix"
   ]
  },
  {
   "cell_type": "code",
   "execution_count": 33,
   "id": "improved-revision",
   "metadata": {},
   "outputs": [
    {
     "data": {
      "image/png": "[encoded data removed]",
      "text/plain": [
       "<Figure size 504x504 with 2 Axes>"
      ]
     },
     "metadata": {
      "needs_background": "light"
     },
     "output_type": "display_data"
    }
   ],
   "source": [
    "pred_y = [1 if e > threshold_fixed else 0 for e in error_df['Reconstruction_error'].values]\n",
    "\n",
    "cm = metrics.confusion_matrix(error_df['True_class'], pred_y)\n",
    "plt.figure(figsize=(7,7))\n",
    "sns.heatmap(cm, xticklabels=LABELS, yticklabels=LABELS, annot=True, fmt='d')\n",
    "plt.title('Confusion Matrix')\n",
    "plt.xlabel('Predicted Class')\n",
    "plt.ylabel('True class')\n",
    "plt.show()"
   ]
  },
  {
   "cell_type": "markdown",
   "id": "stunning-discipline",
   "metadata": {},
   "source": [
    "### ROC curve"
   ]
  },
  {
   "cell_type": "code",
   "execution_count": 34,
   "id": "affected-joyce",
   "metadata": {},
   "outputs": [
    {
     "data": {
      "image/png": "[encoded data removed]",
      "text/plain": [
       "<Figure size 432x288 with 1 Axes>"
      ]
     },
     "metadata": {
      "needs_background": "light"
     },
     "output_type": "display_data"
    }
   ],
   "source": [
    "false_pos_rate, true_pos_rate, thresholds = metrics.roc_curve(error_df['True_class'], error_df['Reconstruction_error'])\n",
    "roc_auc = metrics.auc(false_pos_rate, true_pos_rate,)\n",
    "\n",
    "plt.plot(false_pos_rate, true_pos_rate, linewidth=5, label='AUC = %0.3f'% roc_auc)\n",
    "plt.plot([0,1],[0,1], linewidth=5)\n",
    "\n",
    "plt.xlim([-0.01, 1])\n",
    "plt.ylim([0, 1.01])\n",
    "plt.legend(loc='lower right')\n",
    "plt.title('Receiver operating characteristic curve (ROC)')\n",
    "plt.ylabel('True Positive Rate'); plt.xlabel('False Positive Rate')\n",
    "plt.show()"
   ]
  },
  {
   "cell_type": "markdown",
   "id": "adequate-constitutional",
   "metadata": {},
   "source": [
    "## Reference"
   ]
  },
  {
   "cell_type": "markdown",
   "id": "charming-discovery",
   "metadata": {},
   "source": [
    "- https://towardsdatascience.com/extreme-rare-event-classification-using-autoencoders-in-keras-a565b386f098\n",
    "- https://towardsdatascience.com/lstm-autoencoder-for-extreme-rare-event-classification-in-keras-ce209a224cfb"
   ]
  },
  {
   "cell_type": "code",
   "execution_count": null,
   "id": "flexible-brook",
   "metadata": {},
   "outputs": [],
   "source": []
  }
 ],
 "metadata": {
  "kernelspec": {
   "display_name": "Python 3",
   "language": "python",
   "name": "python3"
  },
  "language_info": {
   "codemirror_mode": {
    "name": "ipython",
    "version": 3
   },
   "file_extension": ".py",
   "mimetype": "text/x-python",
   "name": "python",
   "nbconvert_exporter": "python",
   "pygments_lexer": "ipython3",
   "version": "3.7.9"
  }
 },
 "nbformat": 4,
 "nbformat_minor": 5
}
