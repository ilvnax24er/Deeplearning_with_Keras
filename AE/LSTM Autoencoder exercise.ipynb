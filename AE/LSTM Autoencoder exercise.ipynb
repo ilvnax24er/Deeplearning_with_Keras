{
 "cells": [
  {
   "cell_type": "markdown",
   "id": "convertible-sculpture",
   "metadata": {},
   "source": [
    "# LSTM Autoencoder"
   ]
  },
  {
   "cell_type": "markdown",
   "id": "joint-northeast",
   "metadata": {},
   "source": [
    "LSTM Autoencoder는 sequence data에 Encoder-Decoder LSTM 아키텍처를 적용하여 구현. Input sequence가 순차적으로 들어오게 되고, 마지막 input sequence가 들어온 후 decoder는 input sequence를 재생성하거나 혹은 target sequence에 대한 예측을 출력"
   ]
  },
  {
   "cell_type": "markdown",
   "id": "intermediate-arthritis",
   "metadata": {},
   "source": [
    "# Reconstruction LSTM Autoencoder"
   ]
  },
  {
   "cell_type": "markdown",
   "id": "expensive-gather",
   "metadata": {},
   "source": [
    "재구성(reconstruction)을 위한 Autoencoder. Input과 최대하게 유사한 output을 decoding, LSTM 학습을 위해 데이터를 (sample, timesteps, feature)와 같은 3D형태로 변환."
   ]
  },
  {
   "cell_type": "markdown",
   "id": "prescribed-qatar",
   "metadata": {},
   "source": [
    "## Imports"
   ]
  },
  {
   "cell_type": "code",
   "execution_count": 60,
   "id": "prompt-doctrine",
   "metadata": {},
   "outputs": [],
   "source": [
    "import numpy as np\n",
    "import pandas as pd\n",
    "import tensorflow as tf\n",
    "from tensorflow.keras.layers import Input, LSTM, RepeatVector, TimeDistributed, Dense\n",
    "from tensorflow.keras.models import Model\n",
    "from tensorflow.keras.utils import plot_model\n",
    "\n",
    "import warnings\n",
    "warnings.filterwarnings('ignore')"
   ]
  },
  {
   "cell_type": "code",
   "execution_count": 2,
   "id": "devoted-criticism",
   "metadata": {},
   "outputs": [],
   "source": [
    "physical_devices = tf.config.list_physical_devices('GPU')\n",
    "tf.config.experimental.set_memory_growth(physical_devices[0], enable=True)"
   ]
  },
  {
   "cell_type": "code",
   "execution_count": 3,
   "id": "severe-picnic",
   "metadata": {},
   "outputs": [],
   "source": [
    "sequence = np.array([0.1, 0.2, 0.3, 0.4, 0.5, 0.6, 0.7, 0.8, 0.9])"
   ]
  },
  {
   "cell_type": "code",
   "execution_count": 4,
   "id": "following-syndication",
   "metadata": {},
   "outputs": [],
   "source": [
    "num_in = len(sequence)"
   ]
  },
  {
   "cell_type": "code",
   "execution_count": 5,
   "id": "breathing-participation",
   "metadata": {},
   "outputs": [],
   "source": [
    "sequence = sequence.reshape((1, num_in, 1))"
   ]
  },
  {
   "cell_type": "markdown",
   "id": "entertaining-polyester",
   "metadata": {},
   "source": [
    "## Model"
   ]
  },
  {
   "cell_type": "code",
   "execution_count": 6,
   "id": "considered-ireland",
   "metadata": {},
   "outputs": [
    {
     "name": "stdout",
     "output_type": "stream",
     "text": [
      "WARNING:tensorflow:Layer lstm will not use cuDNN kernel since it doesn't meet the cuDNN kernel criteria. It will use generic GPU kernel as fallback when running on GPU\n",
      "WARNING:tensorflow:Layer lstm_1 will not use cuDNN kernel since it doesn't meet the cuDNN kernel criteria. It will use generic GPU kernel as fallback when running on GPU\n"
     ]
    }
   ],
   "source": [
    "inputs = Input(shape = (num_in, 1))\n",
    "x = LSTM(100, activation = 'relu')(inputs)\n",
    "x = RepeatVector(num_in)(x)\n",
    "x = LSTM(100, activation = 'relu', return_sequences=True)(x)\n",
    "x = TimeDistributed(Dense(1))(x)\n",
    "\n",
    "model = Model(inputs, x)"
   ]
  },
  {
   "cell_type": "code",
   "execution_count": 8,
   "id": "established-finder",
   "metadata": {},
   "outputs": [],
   "source": [
    "model.compile(optimizer='adam', loss='mse')"
   ]
  },
  {
   "cell_type": "code",
   "execution_count": 13,
   "id": "municipal-ambassador",
   "metadata": {},
   "outputs": [
    {
     "name": "stdout",
     "output_type": "stream",
     "text": [
      "Model: \"functional_1\"\n",
      "_________________________________________________________________\n",
      "Layer (type)                 Output Shape              Param #   \n",
      "=================================================================\n",
      "input_1 (InputLayer)         [(None, 9, 1)]            0         \n",
      "_________________________________________________________________\n",
      "lstm (LSTM)                  (None, 100)               40800     \n",
      "_________________________________________________________________\n",
      "repeat_vector (RepeatVector) (None, 9, 100)            0         \n",
      "_________________________________________________________________\n",
      "lstm_1 (LSTM)                (None, 9, 100)            80400     \n",
      "_________________________________________________________________\n",
      "time_distributed (TimeDistri (None, 9, 1)              101       \n",
      "=================================================================\n",
      "Total params: 121,301\n",
      "Trainable params: 121,301\n",
      "Non-trainable params: 0\n",
      "_________________________________________________________________\n"
     ]
    }
   ],
   "source": [
    "model.summary()"
   ]
  },
  {
   "cell_type": "code",
   "execution_count": 14,
   "id": "headed-stewart",
   "metadata": {},
   "outputs": [
    {
     "data": {
      "image/png": "[encoded data removed]",
      "text/plain": [
       "<IPython.core.display.Image object>"
      ]
     },
     "execution_count": 14,
     "metadata": {},
     "output_type": "execute_result"
    }
   ],
   "source": [
    "plot_model(model, show_shapes=True)"
   ]
  },
  {
   "cell_type": "code",
   "execution_count": 9,
   "id": "bored-crash",
   "metadata": {},
   "outputs": [
    {
     "data": {
      "text/plain": [
       "<tensorflow.python.keras.callbacks.History at 0x1ba2140da08>"
      ]
     },
     "execution_count": 9,
     "metadata": {},
     "output_type": "execute_result"
    }
   ],
   "source": [
    "model.fit(sequence, sequence, epochs=300, verbose=0)"
   ]
  },
  {
   "cell_type": "code",
   "execution_count": 10,
   "id": "oriental-borough",
   "metadata": {},
   "outputs": [],
   "source": [
    "y_hat = model.predict(sequence)"
   ]
  },
  {
   "cell_type": "code",
   "execution_count": 11,
   "id": "fabulous-grove",
   "metadata": {},
   "outputs": [
    {
     "data": {
      "text/plain": [
       "array([[[0.11278394],\n",
       "        [0.20763865],\n",
       "        [0.30311114],\n",
       "        [0.39934528],\n",
       "        [0.49661282],\n",
       "        [0.59529835],\n",
       "        [0.6958655 ],\n",
       "        [0.7989111 ],\n",
       "        [0.9051898 ]]], dtype=float32)"
      ]
     },
     "execution_count": 11,
     "metadata": {},
     "output_type": "execute_result"
    }
   ],
   "source": [
    "y_hat"
   ]
  },
  {
   "cell_type": "markdown",
   "id": "quiet-deployment",
   "metadata": {},
   "source": [
    "# Prediction LSTM Autoencoder"
   ]
  },
  {
   "cell_type": "markdown",
   "id": "changing-swaziland",
   "metadata": {},
   "source": [
    "LSTM for time series prediction. Input sequence는 t시점, output은 t+1시점"
   ]
  },
  {
   "cell_type": "code",
   "execution_count": 20,
   "id": "sought-dealing",
   "metadata": {},
   "outputs": [],
   "source": [
    "seq_in = np.array([0.1, 0.2, 0.3, 0.4, 0.5, 0.6, 0.7, 0.8, 0.9])"
   ]
  },
  {
   "cell_type": "code",
   "execution_count": 21,
   "id": "expanded-catalyst",
   "metadata": {},
   "outputs": [
    {
     "data": {
      "text/plain": [
       "(1, 9, 1)"
      ]
     },
     "execution_count": 21,
     "metadata": {},
     "output_type": "execute_result"
    }
   ],
   "source": [
    "n_in = len(seq_in)\n",
    "seq_in = seq_in.reshape((1, n_in, 1))\n",
    "seq_in.shape"
   ]
  },
  {
   "cell_type": "code",
   "execution_count": 47,
   "id": "mexican-hunger",
   "metadata": {},
   "outputs": [
    {
     "data": {
      "text/plain": [
       "array([[[0.2],\n",
       "        [0.3],\n",
       "        [0.4],\n",
       "        [0.5],\n",
       "        [0.6],\n",
       "        [0.7],\n",
       "        [0.8],\n",
       "        [0.9]]])"
      ]
     },
     "execution_count": 47,
     "metadata": {},
     "output_type": "execute_result"
    }
   ],
   "source": [
    "seq_out = seq_in[:, 1:, :]\n",
    "n_out = n_in - 1\n",
    "seq_out"
   ]
  },
  {
   "cell_type": "markdown",
   "id": "multiple-gardening",
   "metadata": {},
   "source": [
    "## Model"
   ]
  },
  {
   "cell_type": "code",
   "execution_count": 48,
   "id": "abandoned-atlanta",
   "metadata": {},
   "outputs": [
    {
     "name": "stdout",
     "output_type": "stream",
     "text": [
      "WARNING:tensorflow:Layer lstm_10 will not use cuDNN kernel since it doesn't meet the cuDNN kernel criteria. It will use generic GPU kernel as fallback when running on GPU\n",
      "WARNING:tensorflow:Layer lstm_11 will not use cuDNN kernel since it doesn't meet the cuDNN kernel criteria. It will use generic GPU kernel as fallback when running on GPU\n"
     ]
    }
   ],
   "source": [
    "inputs = Input(shape = (n_in, 1))\n",
    "x = LSTM(100, activation = 'relu')(inputs)\n",
    "x = RepeatVector(n_out)(x)\n",
    "x = LSTM(100, activation = 'relu', return_sequences=True)(x)\n",
    "x = TimeDistributed(Dense(1))(x)\n",
    "model_p = Model(inputs, x)"
   ]
  },
  {
   "cell_type": "code",
   "execution_count": 49,
   "id": "fitted-pocket",
   "metadata": {},
   "outputs": [
    {
     "name": "stdout",
     "output_type": "stream",
     "text": [
      "Model: \"functional_9\"\n",
      "_________________________________________________________________\n",
      "Layer (type)                 Output Shape              Param #   \n",
      "=================================================================\n",
      "input_6 (InputLayer)         [(None, 9, 1)]            0         \n",
      "_________________________________________________________________\n",
      "lstm_10 (LSTM)               (None, 100)               40800     \n",
      "_________________________________________________________________\n",
      "repeat_vector_5 (RepeatVecto (None, 8, 100)            0         \n",
      "_________________________________________________________________\n",
      "lstm_11 (LSTM)               (None, 8, 100)            80400     \n",
      "_________________________________________________________________\n",
      "time_distributed_5 (TimeDist (None, 8, 1)              101       \n",
      "=================================================================\n",
      "Total params: 121,301\n",
      "Trainable params: 121,301\n",
      "Non-trainable params: 0\n",
      "_________________________________________________________________\n"
     ]
    }
   ],
   "source": [
    "model_p.summary()"
   ]
  },
  {
   "cell_type": "code",
   "execution_count": 50,
   "id": "quality-passion",
   "metadata": {},
   "outputs": [
    {
     "data": {
      "image/png": "[encoded data removed]",
      "text/plain": [
       "<IPython.core.display.Image object>"
      ]
     },
     "execution_count": 50,
     "metadata": {},
     "output_type": "execute_result"
    }
   ],
   "source": [
    "plot_model(model_p)"
   ]
  },
  {
   "cell_type": "code",
   "execution_count": 53,
   "id": "broad-wrapping",
   "metadata": {},
   "outputs": [],
   "source": [
    "model_p.compile(optimizer='adam', loss='mse')"
   ]
  },
  {
   "cell_type": "code",
   "execution_count": 54,
   "id": "empty-think",
   "metadata": {},
   "outputs": [
    {
     "data": {
      "text/plain": [
       "<tensorflow.python.keras.callbacks.History at 0x1ba3caa3f48>"
      ]
     },
     "execution_count": 54,
     "metadata": {},
     "output_type": "execute_result"
    }
   ],
   "source": [
    "model_p.fit(seq_in, seq_out, epochs=300, verbose=0)"
   ]
  },
  {
   "cell_type": "code",
   "execution_count": 56,
   "id": "forbidden-chester",
   "metadata": {},
   "outputs": [
    {
     "name": "stdout",
     "output_type": "stream",
     "text": [
      "[[[0.1]\n",
      "  [0.2]\n",
      "  [0.3]\n",
      "  [0.4]\n",
      "  [0.5]\n",
      "  [0.6]\n",
      "  [0.7]\n",
      "  [0.8]\n",
      "  [0.9]]]\n",
      "[[[0.19804798]\n",
      "  [0.30169964]\n",
      "  [0.4004311 ]\n",
      "  [0.500046  ]\n",
      "  [0.599759  ]\n",
      "  [0.69970095]\n",
      "  [0.7995326 ]\n",
      "  [0.9004605 ]]]\n"
     ]
    }
   ],
   "source": [
    "yhat = model_p.predict(seq_in)\n",
    "print(seq_in)\n",
    "print(yhat)"
   ]
  },
  {
   "cell_type": "markdown",
   "id": "searching-depth",
   "metadata": {},
   "source": [
    "# Composite LSTM Autoencoder"
   ]
  },
  {
   "cell_type": "markdown",
   "id": "associate-removal",
   "metadata": {},
   "source": [
    "Reconstruction + Prediction"
   ]
  },
  {
   "cell_type": "code",
   "execution_count": 57,
   "id": "intimate-terminology",
   "metadata": {},
   "outputs": [],
   "source": [
    "seq_in = np.array([0.1, 0.2, 0.3, 0.4, 0.5, 0.6, 0.7, 0.8, 0.9])\n",
    "n_in = len(seq_in)\n",
    "seq_in = seq_in.reshape((1, n_in, 1))\n",
    "seq_in.shape\n",
    "seq_out = seq_in[:, 1:, :]\n",
    "n_out = n_in - 1"
   ]
  },
  {
   "cell_type": "markdown",
   "id": "alternative-description",
   "metadata": {},
   "source": [
    "## Model"
   ]
  },
  {
   "cell_type": "code",
   "execution_count": 61,
   "id": "alleged-medicine",
   "metadata": {},
   "outputs": [
    {
     "name": "stdout",
     "output_type": "stream",
     "text": [
      "WARNING:tensorflow:Layer lstm_15 will not use cuDNN kernel since it doesn't meet the cuDNN kernel criteria. It will use generic GPU kernel as fallback when running on GPU\n",
      "WARNING:tensorflow:Layer lstm_16 will not use cuDNN kernel since it doesn't meet the cuDNN kernel criteria. It will use generic GPU kernel as fallback when running on GPU\n",
      "WARNING:tensorflow:Layer lstm_17 will not use cuDNN kernel since it doesn't meet the cuDNN kernel criteria. It will use generic GPU kernel as fallback when running on GPU\n"
     ]
    }
   ],
   "source": [
    "inputs = Input(shape=(n_in, 1))\n",
    "encoder = LSTM(100, activation='relu')(inputs)\n",
    "\n",
    "#Reconstruction\n",
    "decoder_1 = RepeatVector(n_in)(encoder)\n",
    "decoder_1 = LSTM(100, activation='relu', return_sequences=True)(decoder_1)\n",
    "decoder_1 = TimeDistributed(Dense(1))(decoder_1)\n",
    "\n",
    "#Prediction\n",
    "decoder_2 = RepeatVector(n_out)(encoder)\n",
    "decoder_2 = LSTM(100, activation='relu', return_sequences=True)(decoder_2)\n",
    "decoder_2 = TimeDistributed(Dense(1))(decoder_2)\n",
    "\n",
    "model = Model(inputs = inputs, outputs = [decoder_1, decoder_2])"
   ]
  },
  {
   "cell_type": "code",
   "execution_count": 63,
   "id": "respective-champagne",
   "metadata": {},
   "outputs": [
    {
     "data": {
      "image/png": "[encoded data removed]",
      "text/plain": [
       "<IPython.core.display.Image object>"
      ]
     },
     "execution_count": 63,
     "metadata": {},
     "output_type": "execute_result"
    }
   ],
   "source": [
    "plot_model(model, show_shapes=True)"
   ]
  },
  {
   "cell_type": "code",
   "execution_count": 64,
   "id": "wanted-blake",
   "metadata": {},
   "outputs": [],
   "source": [
    "model.compile(optimizer='adam', loss='mse')"
   ]
  },
  {
   "cell_type": "code",
   "execution_count": 65,
   "id": "respected-technician",
   "metadata": {},
   "outputs": [
    {
     "data": {
      "text/plain": [
       "<tensorflow.python.keras.callbacks.History at 0x1ba3f6fbd88>"
      ]
     },
     "execution_count": 65,
     "metadata": {},
     "output_type": "execute_result"
    }
   ],
   "source": [
    "model.fit(seq_in, [seq_in, seq_out], epochs=300, verbose=0)"
   ]
  },
  {
   "cell_type": "code",
   "execution_count": 66,
   "id": "brutal-appreciation",
   "metadata": {},
   "outputs": [
    {
     "name": "stdout",
     "output_type": "stream",
     "text": [
      "WARNING:tensorflow:5 out of the last 8 calls to <function Model.make_predict_function.<locals>.predict_function at 0x000001BA3F69A288> triggered tf.function retracing. Tracing is expensive and the excessive number of tracings could be due to (1) creating @tf.function repeatedly in a loop, (2) passing tensors with different shapes, (3) passing Python objects instead of tensors. For (1), please define your @tf.function outside of the loop. For (2), @tf.function has experimental_relax_shapes=True option that relaxes argument shapes that can avoid unnecessary retracing. For (3), please refer to https://www.tensorflow.org/tutorials/customization/performance#python_or_tensor_args and https://www.tensorflow.org/api_docs/python/tf/function for  more details.\n"
     ]
    },
    {
     "data": {
      "text/plain": [
       "[array([[[0.10890768],\n",
       "         [0.20495972],\n",
       "         [0.30269274],\n",
       "         [0.40112865],\n",
       "         [0.49992988],\n",
       "         [0.59921926],\n",
       "         [0.69944113],\n",
       "         [0.8012779 ],\n",
       "         [0.90560365]]], dtype=float32),\n",
       " array([[[0.17004782],\n",
       "         [0.29460818],\n",
       "         [0.40544817],\n",
       "         [0.5071529 ],\n",
       "         [0.6036724 ],\n",
       "         [0.69881785],\n",
       "         [0.7965795 ],\n",
       "         [0.90152895]]], dtype=float32)]"
      ]
     },
     "execution_count": 66,
     "metadata": {},
     "output_type": "execute_result"
    }
   ],
   "source": [
    "yhat = model.predict(seq_in)\n",
    "yhat"
   ]
  },
  {
   "cell_type": "code",
   "execution_count": null,
   "id": "still-ferry",
   "metadata": {},
   "outputs": [],
   "source": []
  }
 ],
 "metadata": {
  "kernelspec": {
   "display_name": "Python 3",
   "language": "python",
   "name": "python3"
  },
  "language_info": {
   "codemirror_mode": {
    "name": "ipython",
    "version": 3
   },
   "file_extension": ".py",
   "mimetype": "text/x-python",
   "name": "python",
   "nbconvert_exporter": "python",
   "pygments_lexer": "ipython3",
   "version": "3.7.9"
  }
 },
 "nbformat": 4,
 "nbformat_minor": 5
}
